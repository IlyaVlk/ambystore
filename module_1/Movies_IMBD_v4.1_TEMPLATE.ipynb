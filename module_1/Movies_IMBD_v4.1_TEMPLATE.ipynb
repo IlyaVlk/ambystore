{
 "cells": [
  {
   "cell_type": "code",
   "execution_count": null,
   "metadata": {
    "_cell_guid": "b1076dfc-b9ad-4769-8c92-a6c4dae69d19",
    "_uuid": "8f2839f25d086af736a60e9eeb907d3b93b6e0e5",
    "colab": {},
    "colab_type": "code",
    "id": "U2D2gTdJVp90"
   },
   "outputs": [],
   "source": [
    "import numpy as np\n",
    "import pandas as pd\n",
    "import seaborn as sns\n",
    "import matplotlib.pyplot as plt\n",
    "from collections import Counter"
   ]
  },
  {
   "cell_type": "code",
   "execution_count": null,
   "metadata": {
    "_cell_guid": "79c7e3d0-c299-4dcb-8224-4455121ee9b0",
    "_uuid": "d629ff2d2480ee46fbb7e2d37f6b5fab8052498a",
    "colab": {},
    "colab_type": "code",
    "id": "oyGfxL3eVp9-"
   },
   "outputs": [],
   "source": [
    "data = pd.read_csv('movie_bd_v5.csv')\n",
    "data.sample(5)"
   ]
  },
  {
   "cell_type": "code",
   "execution_count": null,
   "metadata": {
    "colab": {},
    "colab_type": "code",
    "id": "CoYUnagMVp-C"
   },
   "outputs": [],
   "source": [
    "data.describe()"
   ]
  },
  {
   "cell_type": "markdown",
   "metadata": {
    "colab_type": "text",
    "id": "DTIt7ezGVp-G"
   },
   "source": [
    "# Предобработка"
   ]
  },
  {
   "cell_type": "code",
   "execution_count": null,
   "metadata": {
    "colab": {},
    "colab_type": "code",
    "id": "jNb40DwKVp-H",
    "scrolled": true
   },
   "outputs": [],
   "source": [
    "answers = {} # создадим словарь для ответов\n",
    "# тут другие ваши предобработки колонок например:\n",
    "\n",
    "#the time given in the dataset is in string format.\n",
    "#So we need to change this in datetime format\n",
    "\n",
    "# Change separators in the column 'release_date' from '/' to '-' and in the columns \n",
    "#  'cast', 'director', 'genres', 'production_companies' from '|' to ','\n",
    "for column in ['release_date', 'cast', 'director', 'genres', 'production_companies']:\n",
    "    if column == 'release_date':\n",
    "        data[column] = data[column].agg(lambda x: x.replace('/', '-'))\n",
    "    else: \n",
    "        data[column] = data[column].agg(lambda name: name.replace('|', ','))\n",
    "\n",
    "# Create and calculate 'profit' column in dataframe\n",
    "#data['profit'] = data['revenue'] - data['budget']\n",
    "data['profit'] = data.revenue.sub(data.budget)\n",
    "\n",
    "# Create counters and dictionaries to get unique names of actors, directors, genres and production companies from dataframe\n",
    "cast_counter = Counter()\n",
    "direct_counter = Counter()\n",
    "genres_counter = Counter() \n",
    "companies_counter = Counter()\n",
    "actors_dict = {}\n",
    "direct_dict = {}\n",
    "genres_dict = {}\n",
    "companies_dict = {}\n",
    "list_ = [\n",
    "    ['cast', cast_counter, actors_dict], ['director', direct_counter, direct_dict], \n",
    "    ['genres', genres_counter, genres_dict], ['production_companies', companies_counter, companies_dict]\n",
    "    ]    \n",
    "\n",
    "for value in list_:    \n",
    "    for names in data[value[0]]:         # Take name of column[value[0] and string from column data[value[0]]\n",
    "        lst = names.split(',')           \n",
    "        for name in lst:\n",
    "            value[1][name] = 0           \n",
    "    value[2] = dict(value[1])\n",
    "                                         # Transform counters to the dictionaries \n",
    "actors_dict = list_[0][2].copy()         # Dictionary of unique names of actors   \n",
    "direct_dict = list_[1][2].copy()         # ... of unique names of directors    \n",
    "genres_dict = list_[2][2].copy()         # ... genres\n",
    "companies_dict = list_[3][2].copy()      # ... production companies\n",
    "\n",
    "#data\n",
    "# ..."
   ]
  },
  {
   "cell_type": "markdown",
   "metadata": {
    "colab_type": "text",
    "id": "YxZaH-nPVp-L"
   },
   "source": [
    "# 1. У какого фильма из списка самый большой бюджет?"
   ]
  },
  {
   "cell_type": "markdown",
   "metadata": {
    "colab_type": "text",
    "id": "Nd-G5gX6Vp-M"
   },
   "source": [
    "Использовать варианты ответов в коде решения запрещено.    \n",
    "Вы думаете и в жизни у вас будут варианты ответов?)"
   ]
  },
  {
   "cell_type": "code",
   "execution_count": null,
   "metadata": {
    "colab": {},
    "colab_type": "code",
    "id": "uVnXAY5RVp-O"
   },
   "outputs": [],
   "source": [
    "# в словарь вставляем номер вопроса и ваш ответ на него\n",
    "# Пример: \n",
    "# answers['1'] = '2. Spider-Man 3 (tt0413300)'\n",
    "# запишите свой вариант ответа\n",
    "answers['1'] = 'Pirates of the Caribbean: On Stranger Tides (tt1298650)'  #  + \n",
    "# если ответили верно, можете добавить комментарий со значком \"+\""
   ]
  },
  {
   "cell_type": "code",
   "execution_count": null,
   "metadata": {
    "colab": {},
    "colab_type": "code",
    "id": "dZwb3m28Vp-S"
   },
   "outputs": [],
   "source": [
    "# тут пишем ваш код для решения данного вопроса:\n",
    "data.iloc[data['budget'].sort_values(ascending=False).index[0]]"
   ]
  },
  {
   "cell_type": "markdown",
   "metadata": {
    "colab_type": "text",
    "id": "K7L3nbRXVp-X"
   },
   "source": [
    "ВАРИАНТ 2"
   ]
  },
  {
   "cell_type": "code",
   "execution_count": null,
   "metadata": {
    "colab": {},
    "colab_type": "code",
    "id": "OGaoQI7rVp-X"
   },
   "outputs": [],
   "source": [
    "# можно добавлять разные варианты решения\n",
    "answer_1 = data[data['budget'] == data['budget'].max()]\n",
    "answer_1.iloc[0]['original_title'] + ' ('+ answer_1.iloc[0]['imdb_id'] +')'"
   ]
  },
  {
   "cell_type": "markdown",
   "metadata": {
    "colab_type": "text",
    "id": "FNRbbI3vVp-c"
   },
   "source": [
    "# 2. Какой из фильмов самый длительный (в минутах)?"
   ]
  },
  {
   "cell_type": "code",
   "execution_count": null,
   "metadata": {
    "colab": {},
    "colab_type": "code",
    "id": "vHAoEXNTVp-d"
   },
   "outputs": [],
   "source": [
    "# думаю логику работы с этим словарем вы уже поняли, \n",
    "# по этому не буду больше его дублировать\n",
    "answers['2'] = 'Gods and Generals (tt0279111)'  #  +"
   ]
  },
  {
   "cell_type": "code",
   "execution_count": null,
   "metadata": {
    "colab": {},
    "colab_type": "code",
    "id": "ot-VX2XrVp-g"
   },
   "outputs": [],
   "source": [
    "data[data['runtime'] == data['runtime'].max()]  #   select the longest movie "
   ]
  },
  {
   "cell_type": "markdown",
   "metadata": {},
   "source": [
    "ВАРИАНТ 2"
   ]
  },
  {
   "cell_type": "code",
   "execution_count": null,
   "metadata": {},
   "outputs": [],
   "source": [
    "data.iloc[data['runtime'].sort_values(ascending = False).index[0]]"
   ]
  },
  {
   "cell_type": "markdown",
   "metadata": {
    "colab_type": "text",
    "id": "bapLlpW8Vp-k"
   },
   "source": [
    "# 3. Какой из фильмов самый короткий (в минутах)?\n",
    "\n",
    "\n",
    "\n"
   ]
  },
  {
   "cell_type": "code",
   "execution_count": null,
   "metadata": {
    "colab": {},
    "colab_type": "code",
    "id": "YBxaSHuAVp-l"
   },
   "outputs": [],
   "source": [
    "answers['3'] = 'Winnie the Pooh (tt1449283)'  #  +"
   ]
  },
  {
   "cell_type": "code",
   "execution_count": null,
   "metadata": {},
   "outputs": [],
   "source": [
    "data[['imdb_id','original_title','runtime']][data['runtime'] == data['runtime'].min()] #  select the shortest movie "
   ]
  },
  {
   "cell_type": "markdown",
   "metadata": {},
   "source": [
    "ВАРИАНТ 2"
   ]
  },
  {
   "cell_type": "code",
   "execution_count": null,
   "metadata": {},
   "outputs": [],
   "source": [
    "data[data['runtime'] == data['runtime'].min()]"
   ]
  },
  {
   "cell_type": "markdown",
   "metadata": {
    "colab_type": "text",
    "id": "TfQbxbfNVp-p"
   },
   "source": [
    "# 4. Какова средняя длительность фильмов?\n"
   ]
  },
  {
   "cell_type": "code",
   "execution_count": null,
   "metadata": {
    "colab": {},
    "colab_type": "code",
    "id": "5K6dKZYVVp-q"
   },
   "outputs": [],
   "source": [
    "answers['4'] = '109.658'  #  +"
   ]
  },
  {
   "cell_type": "code",
   "execution_count": null,
   "metadata": {},
   "outputs": [],
   "source": [
    "data['runtime'].mean()     # the averge duration of all the movies"
   ]
  },
  {
   "cell_type": "markdown",
   "metadata": {},
   "source": [
    "ВАРИАНТ 2"
   ]
  },
  {
   "cell_type": "code",
   "execution_count": null,
   "metadata": {},
   "outputs": [],
   "source": [
    "data['runtime'].describe()"
   ]
  },
  {
   "cell_type": "markdown",
   "metadata": {
    "colab_type": "text",
    "id": "r5TvbnT_Vp-u"
   },
   "source": [
    "# 5. Каково медианное значение длительности фильмов? "
   ]
  },
  {
   "cell_type": "code",
   "execution_count": null,
   "metadata": {
    "colab": {},
    "colab_type": "code",
    "id": "iBROplKnVp-v"
   },
   "outputs": [],
   "source": [
    "answers['5'] = '107'  #  +"
   ]
  },
  {
   "cell_type": "code",
   "execution_count": null,
   "metadata": {},
   "outputs": [],
   "source": [
    "data['runtime'].median()   # the median value of the movies duration"
   ]
  },
  {
   "cell_type": "markdown",
   "metadata": {},
   "source": [
    "ВАРИАНТ 2"
   ]
  },
  {
   "cell_type": "code",
   "execution_count": null,
   "metadata": {},
   "outputs": [],
   "source": [
    "data['runtime'].describe() #  50% row"
   ]
  },
  {
   "cell_type": "markdown",
   "metadata": {
    "colab_type": "text",
    "id": "39P-deDSVp-y"
   },
   "source": [
    "# 6. Какой самый прибыльный фильм?\n",
    "#### Внимание! Здесь и далее под «прибылью» или «убытками» понимается разность между сборами и бюджетом фильма. (прибыль = сборы - бюджет) в нашем датасете это будет (profit = revenue - budget) "
   ]
  },
  {
   "cell_type": "code",
   "execution_count": null,
   "metadata": {
    "colab": {},
    "colab_type": "code",
    "id": "UYZh4T9WVp-y"
   },
   "outputs": [],
   "source": [
    "answers['6'] = 'Avatar (tt0499549)'  #  +"
   ]
  },
  {
   "cell_type": "code",
   "execution_count": null,
   "metadata": {},
   "outputs": [],
   "source": [
    "# лучше код получения столбца profit вынести в Предобработку что в начале\n",
    "data.iloc[data['profit'].sort_values(ascending=False).index[0]]  # the most profitable movie"
   ]
  },
  {
   "cell_type": "markdown",
   "metadata": {},
   "source": [
    "ВАРИАНТ 2"
   ]
  },
  {
   "cell_type": "code",
   "execution_count": null,
   "metadata": {},
   "outputs": [],
   "source": [
    "data[['original_title', 'imdb_id', 'profit']][data['profit'] == data['profit'].max()]"
   ]
  },
  {
   "cell_type": "markdown",
   "metadata": {
    "colab_type": "text",
    "id": "M99JmIX4Vp-2"
   },
   "source": [
    "# 7. Какой фильм самый убыточный? "
   ]
  },
  {
   "cell_type": "code",
   "execution_count": null,
   "metadata": {
    "colab": {},
    "colab_type": "code",
    "id": "w-D2m4XPVp-3"
   },
   "outputs": [],
   "source": [
    "answers['7'] = 'The Lone Ranger (tt1210819)'  #   +"
   ]
  },
  {
   "cell_type": "code",
   "execution_count": null,
   "metadata": {},
   "outputs": [],
   "source": [
    "data.iloc[data['profit'].sort_values(ascending=True).index[0]]     # the most unprofitable movie"
   ]
  },
  {
   "cell_type": "markdown",
   "metadata": {},
   "source": [
    "ВАРИАНТ 2"
   ]
  },
  {
   "cell_type": "code",
   "execution_count": null,
   "metadata": {},
   "outputs": [],
   "source": [
    "data[['original_title', 'imdb_id', 'profit']][data['profit'] == data['profit'].min()]"
   ]
  },
  {
   "cell_type": "markdown",
   "metadata": {},
   "source": [
    "ВАРИАНТ 3"
   ]
  },
  {
   "cell_type": "code",
   "execution_count": null,
   "metadata": {},
   "outputs": [],
   "source": [
    "data.iloc[(pd.Series(data['revenue']) - pd.Series(data['budget'])).sort_values(ascending=True).index[0]]"
   ]
  },
  {
   "cell_type": "markdown",
   "metadata": {},
   "source": [
    "ВАРИАНТ 4"
   ]
  },
  {
   "cell_type": "code",
   "execution_count": null,
   "metadata": {},
   "outputs": [],
   "source": [
    "series1, series2 = pd.Series(data['revenue']), pd.Series(data['budget'])\n",
    "data.iloc[(series1 - series2).sort_values(ascending=True).index[0]]"
   ]
  },
  {
   "cell_type": "markdown",
   "metadata": {
    "colab_type": "text",
    "id": "wEOM5ERVVp-6"
   },
   "source": [
    "# 8. У скольких фильмов из датасета объем сборов оказался выше бюджета?"
   ]
  },
  {
   "cell_type": "code",
   "execution_count": null,
   "metadata": {
    "colab": {},
    "colab_type": "code",
    "id": "y00_7HD6Vp-7"
   },
   "outputs": [],
   "source": [
    "answers['8'] = '1478'   #  +"
   ]
  },
  {
   "cell_type": "code",
   "execution_count": null,
   "metadata": {},
   "outputs": [],
   "source": [
    "data[data['revenue'] > data['budget']]['imdb_id'].nunique() # How many movies had revenue more than budget"
   ]
  },
  {
   "cell_type": "markdown",
   "metadata": {},
   "source": [
    "ВАРИАНТ 2"
   ]
  },
  {
   "cell_type": "code",
   "execution_count": null,
   "metadata": {},
   "outputs": [],
   "source": [
    "data[data['revenue'] > data['budget']]['imdb_id'].describe()"
   ]
  },
  {
   "cell_type": "markdown",
   "metadata": {},
   "source": [
    "ВАРИАНТ 3"
   ]
  },
  {
   "cell_type": "code",
   "execution_count": null,
   "metadata": {},
   "outputs": [],
   "source": [
    "data[data['revenue'] > data['budget']]['imdb_id'].count()"
   ]
  },
  {
   "cell_type": "markdown",
   "metadata": {
    "colab_type": "text",
    "id": "xhpspA9KVp_A"
   },
   "source": [
    "# 9. Какой фильм оказался самым кассовым в 2008 году?"
   ]
  },
  {
   "cell_type": "code",
   "execution_count": null,
   "metadata": {
    "colab": {},
    "colab_type": "code",
    "id": "MoUyQr9RVp_B"
   },
   "outputs": [],
   "source": [
    "answers['9'] = 'The Dark Knight (tt0468569)'  #  +"
   ]
  },
  {
   "cell_type": "code",
   "execution_count": null,
   "metadata": {},
   "outputs": [],
   "source": [
    "# the movie with the biggest revenue in 2008\n",
    "data[data['release_year'] == 2008].groupby(['original_title'])['revenue'].max().sort_values(ascending=False)[0:5]"
   ]
  },
  {
   "cell_type": "markdown",
   "metadata": {},
   "source": [
    "ВАРИАНТ 2"
   ]
  },
  {
   "cell_type": "code",
   "execution_count": null,
   "metadata": {},
   "outputs": [],
   "source": [
    "data.iloc[data[data['release_year'] == 2008]['revenue'].sort_values(ascending=False).index[0]]"
   ]
  },
  {
   "cell_type": "markdown",
   "metadata": {
    "colab_type": "text",
    "id": "Zi4hDKidVp_F"
   },
   "source": [
    "# 10. Самый убыточный фильм за период с 2012 по 2014 г. (включительно)?\n"
   ]
  },
  {
   "cell_type": "code",
   "execution_count": null,
   "metadata": {
    "colab": {},
    "colab_type": "code",
    "id": "XqyRmufJVp_F"
   },
   "outputs": [],
   "source": [
    "answers['10'] = 'The Lone Ranger 1245 (tt1210819)'   #   +"
   ]
  },
  {
   "cell_type": "code",
   "execution_count": null,
   "metadata": {},
   "outputs": [],
   "source": [
    "  # the movie with the biggest loss from 2012 to 2014\n",
    "data[(data['release_year'] >= 2012) & \\\n",
    "     (data['release_year'] <= 2014)] \\\n",
    "    [['original_title', 'profit', 'release_year']].sort_values('profit', ascending=True).head()"
   ]
  },
  {
   "cell_type": "markdown",
   "metadata": {},
   "source": [
    "ВАРИАНТ 2"
   ]
  },
  {
   "cell_type": "code",
   "execution_count": null,
   "metadata": {},
   "outputs": [],
   "source": [
    "data[(data['release_year'] >= 2012) & \\\n",
    "     (data['release_year'] <= 2014)]  \\\n",
    "    .groupby(['original_title'])[['profit', 'release_year']].max().sort_values('profit', ascending=True).head()           "
   ]
  },
  {
   "cell_type": "markdown",
   "metadata": {
    "colab_type": "text",
    "id": "EA7Sa9dkVp_I"
   },
   "source": [
    "# 11. Какого жанра фильмов больше всего?"
   ]
  },
  {
   "cell_type": "code",
   "execution_count": null,
   "metadata": {
    "colab": {},
    "colab_type": "code",
    "id": "zsJAwJ8QVp_J"
   },
   "outputs": [],
   "source": [
    "answers['11'] = 'Drama'   #   +"
   ]
  },
  {
   "cell_type": "code",
   "execution_count": null,
   "metadata": {},
   "outputs": [],
   "source": [
    "# эту задачу тоже можно решать разными подходами, попробуй реализовать разные варианты\n",
    "# если будешь добавлять функцию - выноси ее в предобработку что в начале\n",
    "collect11 = Counter()               # define name for Counter\n",
    "for genres in data.genres:          # take the genres list of movie\n",
    "    genre_list = genres.split(',')  # separate string with list of genres\n",
    "    for genre in genre_list:        # take single genre in the list of genres\n",
    "        collect11[genre] += 1       # count quantity of every genre\n",
    "pd.Series(collect11).sort_values(ascending=False)   # display sorted list of genres"
   ]
  },
  {
   "cell_type": "markdown",
   "metadata": {
    "colab_type": "text",
    "id": "T9_bPWpkVp_Q"
   },
   "source": [
    "# 12. Фильмы какого жанра чаще всего становятся прибыльными? "
   ]
  },
  {
   "cell_type": "code",
   "execution_count": null,
   "metadata": {
    "colab": {},
    "colab_type": "code",
    "id": "Tmt8MaK1Vp_R"
   },
   "outputs": [],
   "source": [
    "answers['12'] = 'Drama'   #   +"
   ]
  },
  {
   "cell_type": "code",
   "execution_count": null,
   "metadata": {},
   "outputs": [],
   "source": [
    "collect12 = Counter()                           # define name for Counter\n",
    "profit_q12 = data[data['profit'] > 0]['genres'] # select dataset with profit more than zero\n",
    "for genres in profit_q12.values:                # take the genres list of movie  \n",
    "    genre_lst = genres.split(',')               # separate string with list of genres\n",
    "    for genre in genre_lst:                     # take single genre in the list of genres\n",
    "        collect12[genre] +=1                    # count quantity of each genre\n",
    "collect12.most_common()                         # display sorted list of genres"
   ]
  },
  {
   "cell_type": "markdown",
   "metadata": {
    "colab_type": "text",
    "id": "0F23bgsDVp_U"
   },
   "source": [
    "# 13. У какого режиссера самые большие суммарные кассовые сборы?"
   ]
  },
  {
   "cell_type": "code",
   "execution_count": null,
   "metadata": {
    "colab": {},
    "colab_type": "code",
    "id": "K6Z3J8ygVp_X"
   },
   "outputs": [],
   "source": [
    "answers['13'] = 'Peter Jackson'   #   +"
   ]
  },
  {
   "cell_type": "code",
   "execution_count": null,
   "metadata": {},
   "outputs": [],
   "source": [
    "directors_dict_q13 = direct_dict.copy()                   # make a copy of the dicionary with unique names of directors\n",
    "indx = 0                                                     # index in the dataframe \n",
    "for dir_name in data.director:                               # list of the directos \n",
    "    lst = dir_name.split(',')                                # separate list of the directos \n",
    "    for name in lst:\n",
    "        directors_dict_q13[name] += data.revenue[indx]       # count a Sum of revenue values for every director\n",
    "    indx +=1    \n",
    "pd.Series(directors_dict_q13).sort_values(ascending=False).head() # display sorted list of directors     "
   ]
  },
  {
   "cell_type": "markdown",
   "metadata": {
    "colab_type": "text",
    "id": "PsYC9FgRVp_a"
   },
   "source": [
    "# 14. Какой режисер снял больше всего фильмов в стиле Action?"
   ]
  },
  {
   "cell_type": "code",
   "execution_count": null,
   "metadata": {
    "colab": {},
    "colab_type": "code",
    "id": "wd2M-wHeVp_b",
    "scrolled": true
   },
   "outputs": [],
   "source": [
    "answers['14'] = 'Robert Rodriguez'   #   +"
   ]
  },
  {
   "cell_type": "code",
   "execution_count": null,
   "metadata": {},
   "outputs": [],
   "source": [
    "# Director who made action movies most af all\n",
    "data14 = data[data.genres.str.contains('Action', na=False)]  # select a part of dataframe by genre  \n",
    "directors_dict_q14 = direct_dict.copy()                     # make a copy of dictionary with unique names of directors  \n",
    "for names in data14.director: \n",
    "    lst = names.split(',')    \n",
    "    for name in lst:          \n",
    "        directors_dict_q14[name] +=1                             # count quantity of action movies for every director \n",
    "pd.Series(directors_dict_q14).sort_values(ascending=False).head()# # make a series from the dictionary"
   ]
  },
  {
   "cell_type": "markdown",
   "metadata": {
    "colab_type": "text",
    "id": "PQ0KciD7Vp_f"
   },
   "source": [
    "# 15. Фильмы с каким актером принесли самые высокие кассовые сборы в 2012 году? "
   ]
  },
  {
   "cell_type": "code",
   "execution_count": null,
   "metadata": {
    "colab": {},
    "colab_type": "code",
    "id": "aga62oeKVp_g"
   },
   "outputs": [],
   "source": [
    "answers['15'] = 'Chris Hemsworth'   #   +"
   ]
  },
  {
   "cell_type": "code",
   "execution_count": null,
   "metadata": {},
   "outputs": [],
   "source": [
    "profit15 = data.query('release_year == 2012')                    # select a part of dataframe by year of release\n",
    "actors_dict_q15 = actors_dict.copy()                             # make a copy of dictionary with unique names of actors\n",
    "indx = 0\n",
    "for actors in profit15.cast:                                     # take a list of actors\n",
    "    lst = actors.split(',')\n",
    "    for actor in lst:\n",
    "        actors_dict_q15[actor] += profit15.iloc[indx]['revenue'] # count a total sum of revenue for every actor in movies  \n",
    "    indx +=1         \n",
    "pd.Series(actors_dict_q15).sort_values(ascending=False).head() # make a series from the dictionary and display it"
   ]
  },
  {
   "cell_type": "markdown",
   "metadata": {
    "colab_type": "text",
    "id": "mWHyyL7QVp_j"
   },
   "source": [
    "# 16. Какой актер снялся в большем количестве высокобюджетных фильмов?"
   ]
  },
  {
   "cell_type": "code",
   "execution_count": null,
   "metadata": {
    "colab": {},
    "colab_type": "code",
    "id": "qQtmHKTFVp_k"
   },
   "outputs": [],
   "source": [
    "answers['16'] = 'Matt Damon'    #   +"
   ]
  },
  {
   "cell_type": "code",
   "execution_count": null,
   "metadata": {},
   "outputs": [],
   "source": [
    "profit16 = data.query('budget > budget.mean()')      # select data where budget more than average budget\n",
    "actors_dict_q16 = actors_dict.copy()                 # make a copy of dictionary with unique names of actors\n",
    "for actors in profit16.cast:\n",
    "    lst = actors.split(',')                          # separate string with actors into the list\n",
    "    for actor in lst:\n",
    "        actors_dict_q16[actor] += 1                  # count quantity of movies for every actor\n",
    "dat16 = pd.DataFrame(columns=['Movies'], index=pd.Series(actors_dict_q16).index, \\\n",
    "                     data=pd.Series(actors_dict_q16).values)\n",
    "dat16.sort_values('Movies', ascending=False)[0:4]        "
   ]
  },
  {
   "cell_type": "markdown",
   "metadata": {
    "colab_type": "text",
    "id": "NIh6AaW5Vp_n"
   },
   "source": [
    "# 17. В фильмах какого жанра больше всего снимался Nicolas Cage? "
   ]
  },
  {
   "cell_type": "code",
   "execution_count": null,
   "metadata": {
    "colab": {},
    "colab_type": "code",
    "id": "H74SJDIBVp_n"
   },
   "outputs": [],
   "source": [
    "answers['17'] = 'Action'   #   +"
   ]
  },
  {
   "cell_type": "code",
   "execution_count": null,
   "metadata": {
    "scrolled": true
   },
   "outputs": [],
   "source": [
    "data17 = data[data.cast.str.contains('Nicolas Cage', na=False)] # select the movies by Nicolas Cage in the cast column\n",
    "                                                                  # create a new dataframe with genres in index\n",
    "dat = pd.DataFrame(columns=['Nicolas Cage'], index=list(genres_dict), data=0) \n",
    "for genres in data17.genres:\n",
    "    lst = genres.split(',')                                       # list of genres in each movie\n",
    "    for genre in lst:\n",
    "        dat.loc[genre, 'Nicolas Cage'] += 1                       # count each movie with Nicolas Cage\n",
    "dat.sort_values('Nicolas Cage', ascending=False).head(4)"
   ]
  },
  {
   "cell_type": "markdown",
   "metadata": {
    "colab_type": "text",
    "id": "RqOmPRfWVp_q"
   },
   "source": [
    "# 18. Самый убыточный фильм от Paramount Pictures"
   ]
  },
  {
   "cell_type": "code",
   "execution_count": null,
   "metadata": {
    "colab": {},
    "colab_type": "code",
    "id": "9E_B0Y96Vp_r"
   },
   "outputs": [],
   "source": [
    "answers['18'] = 'K-19: The Widowmaker (tt0267626)'   #   +"
   ]
  },
  {
   "cell_type": "code",
   "execution_count": null,
   "metadata": {},
   "outputs": [],
   "source": [
    "dat18 = data[data.production_companies.str.contains('Paramount Pictures', \\\n",
    "                                                     na=False)][['original_title', 'imdb_id', 'profit']]\n",
    "dat18[['original_title','profit', 'imdb_id']].sort_values('profit', ascending=True).head()"
   ]
  },
  {
   "cell_type": "markdown",
   "metadata": {
    "colab_type": "text",
    "id": "vS8Ur6ddVp_u"
   },
   "source": [
    "# 19. Какой год стал самым успешным по суммарным кассовым сборам?"
   ]
  },
  {
   "cell_type": "code",
   "execution_count": null,
   "metadata": {
    "colab": {},
    "colab_type": "code",
    "id": "Dnbt4GdIVp_v"
   },
   "outputs": [],
   "source": [
    "answers['19'] = '2015'   #  +"
   ]
  },
  {
   "cell_type": "code",
   "execution_count": null,
   "metadata": {},
   "outputs": [],
   "source": [
    "data.groupby(['release_year'])['revenue'].sum().sort_values(ascending=False)"
   ]
  },
  {
   "cell_type": "markdown",
   "metadata": {},
   "source": [
    "ВАРИАНТ 2"
   ]
  },
  {
   "cell_type": "code",
   "execution_count": null,
   "metadata": {},
   "outputs": [],
   "source": [
    "pivot = data.pivot_table(index='release_year', columns='original_title', values='revenue', aggfunc='sum', margins=True)\n",
    "pivot['All'].sort_values(ascending=False)"
   ]
  },
  {
   "cell_type": "markdown",
   "metadata": {
    "colab_type": "text",
    "id": "JAzJh4QAVp_z"
   },
   "source": [
    "# 20. Какой самый прибыльный год для студии Warner Bros?"
   ]
  },
  {
   "cell_type": "code",
   "execution_count": null,
   "metadata": {
    "colab": {},
    "colab_type": "code",
    "id": "wgVu02DEVp_0"
   },
   "outputs": [],
   "source": [
    "answers['20'] = '2014'   #  +"
   ]
  },
  {
   "cell_type": "code",
   "execution_count": null,
   "metadata": {},
   "outputs": [],
   "source": [
    "dat20 = data[data.production_companies.str.contains('Warner Bros', na=False)] # select data by \"Warner Bros\" companie\n",
    "dat20.groupby(['release_year'])['revenue'].sum().sort_values(ascending=False) # count total sum and display it"
   ]
  },
  {
   "cell_type": "markdown",
   "metadata": {},
   "source": [
    "ВАРИАНТ 2"
   ]
  },
  {
   "cell_type": "code",
   "execution_count": null,
   "metadata": {},
   "outputs": [],
   "source": [
    "data20 = data[data.production_companies.str.contains('Warner Bros')].pivot_table(index='release_year',columns='original_title',values='revenue', aggfunc='sum', margins=True)\n",
    "data20.sort_values('All', ascending=False)  "
   ]
  },
  {
   "cell_type": "markdown",
   "metadata": {
    "colab_type": "text",
    "id": "8Im1S2HRVp_4"
   },
   "source": [
    "# 21. В каком месяце за все годы суммарно вышло больше всего фильмов?"
   ]
  },
  {
   "cell_type": "code",
   "execution_count": null,
   "metadata": {
    "colab": {},
    "colab_type": "code",
    "id": "lev6TH7gVp_4"
   },
   "outputs": [],
   "source": [
    "answers['21'] = '9'   #  +"
   ]
  },
  {
   "cell_type": "code",
   "execution_count": null,
   "metadata": {},
   "outputs": [],
   "source": [
    "c = Counter()  \n",
    "for date in data.release_date:  \n",
    "    month = date.split('-')[0]   # take the moth of release \n",
    "    c[month] += 1                # count quantity of movies released in each month\n",
    "c.most_common()                  # diplay sorted output"
   ]
  },
  {
   "cell_type": "markdown",
   "metadata": {
    "colab_type": "text",
    "id": "uAJsZ_NeVp_7"
   },
   "source": [
    "# 22. Сколько суммарно вышло фильмов летом? (за июнь, июль, август)"
   ]
  },
  {
   "cell_type": "code",
   "execution_count": null,
   "metadata": {
    "colab": {},
    "colab_type": "code",
    "id": "Aa-hEREoVp_8"
   },
   "outputs": [],
   "source": [
    "answers['22'] = '450'   #  +"
   ]
  },
  {
   "cell_type": "code",
   "execution_count": null,
   "metadata": {},
   "outputs": [],
   "source": [
    "#  How many movies were released in summer \n",
    "count = Counter()\n",
    "for date in data.release_date:\n",
    "    month = date.split('-')[0]                     # take the moth of release \n",
    "    if int(month) in [6,7,8]:                      # check date of release\n",
    "        count['Quantity_of_movies_in_summer'] += 1 # count quantity of movies in summer\n",
    "count"
   ]
  },
  {
   "cell_type": "markdown",
   "metadata": {
    "colab_type": "text",
    "id": "G94ppOY1VqAA"
   },
   "source": [
    "# 23. Для какого режиссера зима – самое продуктивное время года? "
   ]
  },
  {
   "cell_type": "code",
   "execution_count": null,
   "metadata": {},
   "outputs": [],
   "source": [
    "answers['23'] = 'Peter Jackson'   #  +"
   ]
  },
  {
   "cell_type": "code",
   "execution_count": null,
   "metadata": {},
   "outputs": [],
   "source": [
    "dat23 = data[data.release_date.str.match('1-|2-|12-', na=False)][['original_title','director','release_date']]       \n",
    "data23 = pd.DataFrame(columns=['Quantity_of_movies_in_winter'], index=list(direct_dict), data=0)\n",
    "for direct in dat23.director:                                                 # list of directors     \n",
    "    name_list = direct.split(',')                                             \n",
    "    for name in name_list:                                                    # take single director's name  \n",
    "        data23.loc[name, 'Quantity_of_movies_in_winter'] +=1                  # quantity of movies \n",
    "data23.sort_values(by='Quantity_of_movies_in_winter', ascending=False).head()# display calculated output"
   ]
  },
  {
   "cell_type": "markdown",
   "metadata": {
    "colab_type": "text",
    "id": "RBo0JVjVVqAF"
   },
   "source": [
    "# 24. Какая студия дает самые длинные названия своим фильмам по количеству символов?"
   ]
  },
  {
   "cell_type": "code",
   "execution_count": null,
   "metadata": {
    "colab": {},
    "colab_type": "code",
    "id": "QRGS8L0iVqAG"
   },
   "outputs": [],
   "source": [
    "answers['24'] = 'Four By Two Productions'   #  +"
   ]
  },
  {
   "cell_type": "code",
   "execution_count": null,
   "metadata": {},
   "outputs": [],
   "source": [
    "dat24 = pd.DataFrame(columns=['quantity_of_movies', \\\n",
    "                              'sum_length_of_title', 'mean_length_of_title'], index=list(companies_dict), data=0)\n",
    "indx = 0\n",
    "for companies in data.production_companies:                       \n",
    "    companie = companies.split(',')\n",
    "    length_of_title = len(data.loc[indx, 'original_title'])       # length of movie title\n",
    "    for name in companie:                                         # single name of production companie \n",
    "        dat24.loc[name, 'quantity_of_movies'] += 1                # counter of movies\n",
    "        dat24.loc[name, 'sum_length_of_title'] += length_of_title # take total length of all the overviews\n",
    "    indx += 1     \n",
    "dat24['mean_length_of_title'] = dat24['sum_length_of_title'] / dat24['quantity_of_movies']# Calculate mean length      \n",
    "dat24.sort_values('mean_length_of_title', ascending=False).head()  "
   ]
  },
  {
   "cell_type": "markdown",
   "metadata": {
    "colab_type": "text",
    "id": "9G0hbvR7VqAK"
   },
   "source": [
    "# 25. Описание фильмов какой студии в среднем самые длинные по количеству слов?"
   ]
  },
  {
   "cell_type": "code",
   "execution_count": null,
   "metadata": {
    "colab": {},
    "colab_type": "code",
    "id": "Ge2GsLNxVqAK"
   },
   "outputs": [],
   "source": [
    "answers['25'] = 'Midnight Picture Show'   #  +"
   ]
  },
  {
   "cell_type": "code",
   "execution_count": null,
   "metadata": {},
   "outputs": [],
   "source": [
    "data25 = pd.DataFrame(data=0, index=list(companies_dict), \\\n",
    "                      columns=['quantity_of_movies','overview_word_count', 'overview_mean_length'])\n",
    "indx = 0                                                    # index for taking values from overview column\n",
    "for comp_name in data.production_companies:                 # a list of companies \n",
    "    lst_comp_name = comp_name.split(',')\n",
    "    word_cnt = data.overview[indx].count(' ') + 1           # take quantity of words in the overviews\n",
    "    for name in lst_comp_name:                              # single name of production companie\n",
    "        data25.loc[name, 'quantity_of_movies'] += 1         # counter of movies    \n",
    "        data25.loc[name, 'overview_word_count'] += word_cnt # total words quantity in all movies\n",
    "    indx += 1\n",
    "                                                            # calculate mean length of overview  \n",
    "data25['overview_mean_length'] = data25['overview_word_count'] / data25['quantity_of_movies']\n",
    "data25[['quantity_of_movies','overview_mean_length']].sort_values('overview_mean_length', ascending=False)[0:4]"
   ]
  },
  {
   "cell_type": "markdown",
   "metadata": {
    "colab_type": "text",
    "id": "FJ1AFt90VqAP"
   },
   "source": [
    "# 26. Какие фильмы входят в 1 процент лучших по рейтингу? \n",
    "по vote_average"
   ]
  },
  {
   "cell_type": "code",
   "execution_count": null,
   "metadata": {
    "colab": {},
    "colab_type": "code",
    "id": "8qmJVq4CVqAQ"
   },
   "outputs": [],
   "source": [
    "answers['26'] = 'Inside Out, The Dark Knight, 12 Years a Slave'   #  +"
   ]
  },
  {
   "cell_type": "code",
   "execution_count": null,
   "metadata": {},
   "outputs": [],
   "source": [
    "#  a list of movies in the 1 % top by the user's votes\n",
    "data[data['vote_average'] > data['vote_average'].quantile(0.99)] \\\n",
    "[['original_title','vote_average']].sort_values('vote_average', ascending=False)[0:15]"
   ]
  },
  {
   "cell_type": "markdown",
   "metadata": {
    "colab_type": "text",
    "id": "MdXsUXbCVqAV"
   },
   "source": [
    "# 27. Какие актеры чаще всего снимаются в одном фильме вместе?\n"
   ]
  },
  {
   "cell_type": "code",
   "execution_count": null,
   "metadata": {},
   "outputs": [],
   "source": [
    "answers['27'] = 'Daniel Radcliffe & Rupert Grint  8'   #  +"
   ]
  },
  {
   "cell_type": "code",
   "execution_count": null,
   "metadata": {},
   "outputs": [],
   "source": [
    "dict_actors = {}                                    # Dictionary for the unique pairs of actors\n",
    "for actors in data.cast:                            \n",
    "    lst = sorted(actors.split(','), reverse = True) # Make a sorted list of the actors in each movie\n",
    "    ln = len(lst)                                   # Actor's names quantity in the movie\n",
    "                                                    # Make a list of the unique actors pairs\n",
    "    lst_actors = [y+' & '+x for x in lst[0:ln] for y in lst[1:ln] if (x!=y) & (x>y)]\n",
    "    for pair in lst_actors:                         # Take actors pair from the list\n",
    "        if pair not in dict_actors:            \n",
    "            dict_actors[pair] = 1                   # If pair not in the dictionar, assigne number 1  \n",
    "        else:\n",
    "            dict_actors[pair] += 1                  # If pair in the dictionary, add to the total sum\n",
    "dat27 = pd.DataFrame(columns=['Movies'], data=pd.Series(dict_actors).values, index=pd.Series(dict_actors).index)\n",
    "dat27.sort_values('Movies', ascending=False).head(10)"
   ]
  },
  {
   "cell_type": "markdown",
   "metadata": {
    "colab_type": "text",
    "id": "U0nONFnGVqAX"
   },
   "source": [
    "# Submission"
   ]
  },
  {
   "cell_type": "code",
   "execution_count": null,
   "metadata": {
    "colab": {},
    "colab_type": "code",
    "id": "IfcaRO9-VqAX",
    "outputId": "0f132912-32bb-4196-c98c-abfbc4ad5a5f"
   },
   "outputs": [],
   "source": [
    "# в конце можно посмотреть свои ответы к каждому вопросу\n",
    "answers"
   ]
  },
  {
   "cell_type": "code",
   "execution_count": null,
   "metadata": {
    "colab": {},
    "colab_type": "code",
    "id": "SiRmHPl8VqAd"
   },
   "outputs": [],
   "source": [
    "# и убедиться что ни чего не пропустил)\n",
    "len(answers)"
   ]
  }
 ],
 "metadata": {
  "colab": {
   "name": "Copy of [SF-DST] Movies IMBD v4.1 TEMPLATE.ipynb",
   "provenance": []
  },
  "kernelspec": {
   "display_name": "Python 3",
   "language": "python",
   "name": "python3"
  },
  "language_info": {
   "codemirror_mode": {
    "name": "ipython",
    "version": 3
   },
   "file_extension": ".py",
   "mimetype": "text/x-python",
   "name": "python",
   "nbconvert_exporter": "python",
   "pygments_lexer": "ipython3",
   "version": "3.8.5"
  }
 },
 "nbformat": 4,
 "nbformat_minor": 1
}
